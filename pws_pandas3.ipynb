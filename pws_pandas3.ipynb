{
 "cells": [
  {
   "cell_type": "markdown",
   "id": "fa5e8dcb",
   "metadata": {},
   "source": [
    "# Consider following code to answer further questions:\n",
    "# import pandas as pd\n",
    "# course_name = [‘Data Science’, ‘Machine Learning’, ‘Big Data’, ‘Data Engineer’]\n",
    "# duration = [2,3,6,4]\n",
    "# df = pd.DataFrame(data = {‘course_name’ : course_name, ‘duration’ : duration})\n"
   ]
  },
  {
   "cell_type": "code",
   "execution_count": 1,
   "id": "d3bc921a",
   "metadata": {},
   "outputs": [],
   "source": [
    "import pandas as pd, warnings\n",
    "warnings.filterwarnings('ignore')\n",
    "course_name = ['Data Science', 'Machine Learning', 'Big Data', 'Data Engineer']\n",
    "duration = [2,3,6,4]\n",
    "df = pd.DataFrame(data = {'course_name' : course_name, 'duration' : duration})"
   ]
  },
  {
   "cell_type": "code",
   "execution_count": 2,
   "id": "b206e044",
   "metadata": {},
   "outputs": [
    {
     "data": {
      "text/html": [
       "<div>\n",
       "<style scoped>\n",
       "    .dataframe tbody tr th:only-of-type {\n",
       "        vertical-align: middle;\n",
       "    }\n",
       "\n",
       "    .dataframe tbody tr th {\n",
       "        vertical-align: top;\n",
       "    }\n",
       "\n",
       "    .dataframe thead th {\n",
       "        text-align: right;\n",
       "    }\n",
       "</style>\n",
       "<table border=\"1\" class=\"dataframe\">\n",
       "  <thead>\n",
       "    <tr style=\"text-align: right;\">\n",
       "      <th></th>\n",
       "      <th>course_name</th>\n",
       "      <th>duration</th>\n",
       "    </tr>\n",
       "  </thead>\n",
       "  <tbody>\n",
       "    <tr>\n",
       "      <th>0</th>\n",
       "      <td>Data Science</td>\n",
       "      <td>2</td>\n",
       "    </tr>\n",
       "    <tr>\n",
       "      <th>1</th>\n",
       "      <td>Machine Learning</td>\n",
       "      <td>3</td>\n",
       "    </tr>\n",
       "    <tr>\n",
       "      <th>2</th>\n",
       "      <td>Big Data</td>\n",
       "      <td>6</td>\n",
       "    </tr>\n",
       "    <tr>\n",
       "      <th>3</th>\n",
       "      <td>Data Engineer</td>\n",
       "      <td>4</td>\n",
       "    </tr>\n",
       "  </tbody>\n",
       "</table>\n",
       "</div>"
      ],
      "text/plain": [
       "        course_name  duration\n",
       "0      Data Science         2\n",
       "1  Machine Learning         3\n",
       "2          Big Data         6\n",
       "3     Data Engineer         4"
      ]
     },
     "execution_count": 2,
     "metadata": {},
     "output_type": "execute_result"
    }
   ],
   "source": [
    "df"
   ]
  },
  {
   "cell_type": "markdown",
   "id": "f2cacb70",
   "metadata": {},
   "source": [
    "# Q1. Write a code to print the data present in the second row of the dataframe, df.¶\n",
    "\n",
    "# ANS"
   ]
  },
  {
   "cell_type": "code",
   "execution_count": 3,
   "id": "cab7d5f7",
   "metadata": {},
   "outputs": [
    {
     "data": {
      "text/html": [
       "<div>\n",
       "<style scoped>\n",
       "    .dataframe tbody tr th:only-of-type {\n",
       "        vertical-align: middle;\n",
       "    }\n",
       "\n",
       "    .dataframe tbody tr th {\n",
       "        vertical-align: top;\n",
       "    }\n",
       "\n",
       "    .dataframe thead th {\n",
       "        text-align: right;\n",
       "    }\n",
       "</style>\n",
       "<table border=\"1\" class=\"dataframe\">\n",
       "  <thead>\n",
       "    <tr style=\"text-align: right;\">\n",
       "      <th></th>\n",
       "      <th>course_name</th>\n",
       "      <th>duration</th>\n",
       "    </tr>\n",
       "  </thead>\n",
       "  <tbody>\n",
       "    <tr>\n",
       "      <th>1</th>\n",
       "      <td>Machine Learning</td>\n",
       "      <td>3</td>\n",
       "    </tr>\n",
       "  </tbody>\n",
       "</table>\n",
       "</div>"
      ],
      "text/plain": [
       "        course_name  duration\n",
       "1  Machine Learning         3"
      ]
     },
     "execution_count": 3,
     "metadata": {},
     "output_type": "execute_result"
    }
   ],
   "source": [
    "df.iloc[1:2,:]"
   ]
  },
  {
   "cell_type": "markdown",
   "id": "1c19a789",
   "metadata": {},
   "source": [
    "# Q2. What is the difference between the functions loc and iloc in pandas.DataFrame?\n",
    "\n",
    "# ANS\n",
    "\n",
    "### .loc()\n",
    "> The loc() function is label based data selecting method which means that we have to pass the name of the row or column which we want to select. This method includes the last element of the range passed in it, unlike iloc(). loc() can accept the boolean data unlike iloc(). \n",
    "\n",
    "\n",
    "### .iloc()\n",
    "\n",
    "\n",
    "> The iloc() function is an indexed-based selecting method which means that we have to pass an integer index in the method to select a specific row/column. This method does not include the last element of the range passed in it unlike loc(). iloc() does not accept the boolean data unlike loc()"
   ]
  },
  {
   "cell_type": "code",
   "execution_count": 4,
   "id": "f45706ff",
   "metadata": {},
   "outputs": [
    {
     "name": "stdout",
     "output_type": "stream",
     "text": [
      "    course_name  duration\n",
      "0  Data Science         2\n"
     ]
    }
   ],
   "source": [
    "# exp\n",
    "# loc()\n",
    "\n",
    "print(df.loc[df[\"course_name\"]==\"Data Science\"])"
   ]
  },
  {
   "cell_type": "code",
   "execution_count": 5,
   "id": "15610428",
   "metadata": {},
   "outputs": [
    {
     "data": {
      "text/html": [
       "<div>\n",
       "<style scoped>\n",
       "    .dataframe tbody tr th:only-of-type {\n",
       "        vertical-align: middle;\n",
       "    }\n",
       "\n",
       "    .dataframe tbody tr th {\n",
       "        vertical-align: top;\n",
       "    }\n",
       "\n",
       "    .dataframe thead th {\n",
       "        text-align: right;\n",
       "    }\n",
       "</style>\n",
       "<table border=\"1\" class=\"dataframe\">\n",
       "  <thead>\n",
       "    <tr style=\"text-align: right;\">\n",
       "      <th></th>\n",
       "      <th>course_name</th>\n",
       "      <th>duration</th>\n",
       "    </tr>\n",
       "  </thead>\n",
       "  <tbody>\n",
       "    <tr>\n",
       "      <th>1</th>\n",
       "      <td>Machine Learning</td>\n",
       "      <td>3</td>\n",
       "    </tr>\n",
       "    <tr>\n",
       "      <th>2</th>\n",
       "      <td>Big Data</td>\n",
       "      <td>6</td>\n",
       "    </tr>\n",
       "  </tbody>\n",
       "</table>\n",
       "</div>"
      ],
      "text/plain": [
       "        course_name  duration\n",
       "1  Machine Learning         3\n",
       "2          Big Data         6"
      ]
     },
     "execution_count": 5,
     "metadata": {},
     "output_type": "execute_result"
    }
   ],
   "source": [
    "# selecting range 1: 2\n",
    "df.loc[1:2]"
   ]
  },
  {
   "cell_type": "code",
   "execution_count": 6,
   "id": "84143d2d",
   "metadata": {},
   "outputs": [
    {
     "data": {
      "text/html": [
       "<div>\n",
       "<style scoped>\n",
       "    .dataframe tbody tr th:only-of-type {\n",
       "        vertical-align: middle;\n",
       "    }\n",
       "\n",
       "    .dataframe tbody tr th {\n",
       "        vertical-align: top;\n",
       "    }\n",
       "\n",
       "    .dataframe thead th {\n",
       "        text-align: right;\n",
       "    }\n",
       "</style>\n",
       "<table border=\"1\" class=\"dataframe\">\n",
       "  <thead>\n",
       "    <tr style=\"text-align: right;\">\n",
       "      <th></th>\n",
       "      <th>course_name</th>\n",
       "      <th>duration</th>\n",
       "    </tr>\n",
       "  </thead>\n",
       "  <tbody>\n",
       "    <tr>\n",
       "      <th>1</th>\n",
       "      <td>Machine Learning</td>\n",
       "      <td>3</td>\n",
       "    </tr>\n",
       "    <tr>\n",
       "      <th>2</th>\n",
       "      <td>Big Data</td>\n",
       "      <td>6</td>\n",
       "    </tr>\n",
       "  </tbody>\n",
       "</table>\n",
       "</div>"
      ],
      "text/plain": [
       "        course_name  duration\n",
       "1  Machine Learning         3\n",
       "2          Big Data         6"
      ]
     },
     "execution_count": 6,
     "metadata": {},
     "output_type": "execute_result"
    }
   ],
   "source": [
    "# .iloc() seecting range\n",
    "\n",
    "df.iloc[1:3]"
   ]
  },
  {
   "cell_type": "code",
   "execution_count": 7,
   "id": "4aa89e91",
   "metadata": {},
   "outputs": [
    {
     "data": {
      "text/html": [
       "<div>\n",
       "<style scoped>\n",
       "    .dataframe tbody tr th:only-of-type {\n",
       "        vertical-align: middle;\n",
       "    }\n",
       "\n",
       "    .dataframe tbody tr th {\n",
       "        vertical-align: top;\n",
       "    }\n",
       "\n",
       "    .dataframe thead th {\n",
       "        text-align: right;\n",
       "    }\n",
       "</style>\n",
       "<table border=\"1\" class=\"dataframe\">\n",
       "  <thead>\n",
       "    <tr style=\"text-align: right;\">\n",
       "      <th></th>\n",
       "      <th>course_name</th>\n",
       "      <th>duration</th>\n",
       "    </tr>\n",
       "  </thead>\n",
       "  <tbody>\n",
       "    <tr>\n",
       "      <th>0</th>\n",
       "      <td>Data Science</td>\n",
       "      <td>2</td>\n",
       "    </tr>\n",
       "    <tr>\n",
       "      <th>2</th>\n",
       "      <td>Big Data</td>\n",
       "      <td>6</td>\n",
       "    </tr>\n",
       "  </tbody>\n",
       "</table>\n",
       "</div>"
      ],
      "text/plain": [
       "    course_name  duration\n",
       "0  Data Science         2\n",
       "2      Big Data         6"
      ]
     },
     "execution_count": 7,
     "metadata": {},
     "output_type": "execute_result"
    }
   ],
   "source": [
    "# selecting onl2 0 & 2\n",
    "df.iloc[[0,2]]"
   ]
  },
  {
   "cell_type": "markdown",
   "id": "198a34f6",
   "metadata": {},
   "source": [
    "# Q3. Reindex the given dataframe using a variable, reindex = [3,0,1,2] and store it in the variable, new_df then find the output for both new_df.loc[2] and new_df.iloc[2]. \n",
    "\n",
    "\n",
    "# ANS"
   ]
  },
  {
   "cell_type": "code",
   "execution_count": 8,
   "id": "cc2ea67b",
   "metadata": {},
   "outputs": [
    {
     "data": {
      "text/html": [
       "<div>\n",
       "<style scoped>\n",
       "    .dataframe tbody tr th:only-of-type {\n",
       "        vertical-align: middle;\n",
       "    }\n",
       "\n",
       "    .dataframe tbody tr th {\n",
       "        vertical-align: top;\n",
       "    }\n",
       "\n",
       "    .dataframe thead th {\n",
       "        text-align: right;\n",
       "    }\n",
       "</style>\n",
       "<table border=\"1\" class=\"dataframe\">\n",
       "  <thead>\n",
       "    <tr style=\"text-align: right;\">\n",
       "      <th></th>\n",
       "      <th>course_name</th>\n",
       "      <th>duration</th>\n",
       "    </tr>\n",
       "  </thead>\n",
       "  <tbody>\n",
       "    <tr>\n",
       "      <th>3</th>\n",
       "      <td>Data Engineer</td>\n",
       "      <td>4</td>\n",
       "    </tr>\n",
       "    <tr>\n",
       "      <th>0</th>\n",
       "      <td>Data Science</td>\n",
       "      <td>2</td>\n",
       "    </tr>\n",
       "    <tr>\n",
       "      <th>1</th>\n",
       "      <td>Machine Learning</td>\n",
       "      <td>3</td>\n",
       "    </tr>\n",
       "    <tr>\n",
       "      <th>2</th>\n",
       "      <td>Big Data</td>\n",
       "      <td>6</td>\n",
       "    </tr>\n",
       "  </tbody>\n",
       "</table>\n",
       "</div>"
      ],
      "text/plain": [
       "        course_name  duration\n",
       "3     Data Engineer         4\n",
       "0      Data Science         2\n",
       "1  Machine Learning         3\n",
       "2          Big Data         6"
      ]
     },
     "execution_count": 8,
     "metadata": {},
     "output_type": "execute_result"
    }
   ],
   "source": [
    "new_df=df.reindex([3,0,1,2])\n",
    "new_df"
   ]
  },
  {
   "cell_type": "code",
   "execution_count": 9,
   "id": "ea34bf9d",
   "metadata": {},
   "outputs": [
    {
     "data": {
      "text/plain": [
       "course_name    Big Data\n",
       "duration              6\n",
       "Name: 2, dtype: object"
      ]
     },
     "execution_count": 9,
     "metadata": {},
     "output_type": "execute_result"
    }
   ],
   "source": [
    "#new_df.loc[2]\n",
    "new_df.loc[2]"
   ]
  },
  {
   "cell_type": "code",
   "execution_count": 10,
   "id": "beaedd15",
   "metadata": {},
   "outputs": [
    {
     "data": {
      "text/plain": [
       "course_name    Machine Learning\n",
       "duration                      3\n",
       "Name: 1, dtype: object"
      ]
     },
     "execution_count": 10,
     "metadata": {},
     "output_type": "execute_result"
    }
   ],
   "source": [
    "#new_df.iloc[2]\n",
    "new_df.iloc[2]"
   ]
  },
  {
   "cell_type": "markdown",
   "id": "28bcf729",
   "metadata": {},
   "source": [
    "# Did you observe any difference in both the outputs? If so then explain it.\n",
    "\n",
    "\n",
    "### ANS: YES\n",
    "\n",
    "* loc() returns the value data by iterating the value of the index, where the value of index =2 that only it has gave.\n",
    "* Whearas iloc() has taken the rows as per thire panda index, it does not take the value of the index or name of the index. "
   ]
  },
  {
   "cell_type": "markdown",
   "id": "e53c3dd4",
   "metadata": {},
   "source": [
    "# Consider the below code to answer further questions:\n",
    "* import pandas as pd\n",
    "* import numpy as np\n",
    "* columns = ['column_1', 'column_2', 'column_3', 'column_4', 'column_5', 'column_6']\n",
    "* indices = [1,2,3,4,5,6]\n",
    "* #Creating a dataframe:\n",
    "* df1 = pd.DataFrame(np.random.rand(6,6), columns = columns, index = indices)"
   ]
  },
  {
   "cell_type": "code",
   "execution_count": 11,
   "id": "47aeabcf",
   "metadata": {},
   "outputs": [
    {
     "data": {
      "text/html": [
       "<div>\n",
       "<style scoped>\n",
       "    .dataframe tbody tr th:only-of-type {\n",
       "        vertical-align: middle;\n",
       "    }\n",
       "\n",
       "    .dataframe tbody tr th {\n",
       "        vertical-align: top;\n",
       "    }\n",
       "\n",
       "    .dataframe thead th {\n",
       "        text-align: right;\n",
       "    }\n",
       "</style>\n",
       "<table border=\"1\" class=\"dataframe\">\n",
       "  <thead>\n",
       "    <tr style=\"text-align: right;\">\n",
       "      <th></th>\n",
       "      <th>column_1</th>\n",
       "      <th>column_2</th>\n",
       "      <th>column_3</th>\n",
       "      <th>column_4</th>\n",
       "      <th>column_5</th>\n",
       "      <th>column_6</th>\n",
       "    </tr>\n",
       "  </thead>\n",
       "  <tbody>\n",
       "    <tr>\n",
       "      <th>1</th>\n",
       "      <td>0.478508</td>\n",
       "      <td>0.562470</td>\n",
       "      <td>0.790362</td>\n",
       "      <td>0.955825</td>\n",
       "      <td>0.443962</td>\n",
       "      <td>0.269960</td>\n",
       "    </tr>\n",
       "    <tr>\n",
       "      <th>2</th>\n",
       "      <td>0.825807</td>\n",
       "      <td>0.267815</td>\n",
       "      <td>0.383624</td>\n",
       "      <td>0.585317</td>\n",
       "      <td>0.584782</td>\n",
       "      <td>0.740475</td>\n",
       "    </tr>\n",
       "    <tr>\n",
       "      <th>3</th>\n",
       "      <td>0.254261</td>\n",
       "      <td>0.535909</td>\n",
       "      <td>0.820029</td>\n",
       "      <td>0.367717</td>\n",
       "      <td>0.867578</td>\n",
       "      <td>0.611974</td>\n",
       "    </tr>\n",
       "    <tr>\n",
       "      <th>4</th>\n",
       "      <td>0.665041</td>\n",
       "      <td>0.789970</td>\n",
       "      <td>0.286682</td>\n",
       "      <td>0.783817</td>\n",
       "      <td>0.147341</td>\n",
       "      <td>0.415157</td>\n",
       "    </tr>\n",
       "    <tr>\n",
       "      <th>5</th>\n",
       "      <td>0.788007</td>\n",
       "      <td>0.663080</td>\n",
       "      <td>0.504614</td>\n",
       "      <td>0.744917</td>\n",
       "      <td>0.913831</td>\n",
       "      <td>0.312497</td>\n",
       "    </tr>\n",
       "    <tr>\n",
       "      <th>6</th>\n",
       "      <td>0.604884</td>\n",
       "      <td>0.653184</td>\n",
       "      <td>0.711991</td>\n",
       "      <td>0.944543</td>\n",
       "      <td>0.498321</td>\n",
       "      <td>0.140385</td>\n",
       "    </tr>\n",
       "  </tbody>\n",
       "</table>\n",
       "</div>"
      ],
      "text/plain": [
       "   column_1  column_2  column_3  column_4  column_5  column_6\n",
       "1  0.478508  0.562470  0.790362  0.955825  0.443962  0.269960\n",
       "2  0.825807  0.267815  0.383624  0.585317  0.584782  0.740475\n",
       "3  0.254261  0.535909  0.820029  0.367717  0.867578  0.611974\n",
       "4  0.665041  0.789970  0.286682  0.783817  0.147341  0.415157\n",
       "5  0.788007  0.663080  0.504614  0.744917  0.913831  0.312497\n",
       "6  0.604884  0.653184  0.711991  0.944543  0.498321  0.140385"
      ]
     },
     "execution_count": 11,
     "metadata": {},
     "output_type": "execute_result"
    }
   ],
   "source": [
    "import pandas as pd\n",
    "import numpy as np\n",
    "columns = ['column_1', 'column_2', 'column_3', 'column_4', 'column_5', 'column_6']\n",
    "indices = [1,2,3,4,5,6]\n",
    "#Creating a dataframe:\n",
    "df1 = pd.DataFrame(np.random.rand(6,6), columns = columns, index = indices)\n",
    "\n",
    "df1"
   ]
  },
  {
   "cell_type": "markdown",
   "id": "1d1a3639",
   "metadata": {},
   "source": [
    "#  Q4. Write a code to find the following statistical measurements for the above dataframe df1:\n",
    "* (i) mean of each and every column present in the dataframe.\n",
    "* (ii) standard deviation of column, ‘column_2’"
   ]
  },
  {
   "cell_type": "code",
   "execution_count": 12,
   "id": "338af206",
   "metadata": {},
   "outputs": [
    {
     "data": {
      "text/html": [
       "<div>\n",
       "<style scoped>\n",
       "    .dataframe tbody tr th:only-of-type {\n",
       "        vertical-align: middle;\n",
       "    }\n",
       "\n",
       "    .dataframe tbody tr th {\n",
       "        vertical-align: top;\n",
       "    }\n",
       "\n",
       "    .dataframe thead th {\n",
       "        text-align: right;\n",
       "    }\n",
       "</style>\n",
       "<table border=\"1\" class=\"dataframe\">\n",
       "  <thead>\n",
       "    <tr style=\"text-align: right;\">\n",
       "      <th></th>\n",
       "      <th>Col_name</th>\n",
       "      <th>Mean</th>\n",
       "    </tr>\n",
       "  </thead>\n",
       "  <tbody>\n",
       "    <tr>\n",
       "      <th>0</th>\n",
       "      <td>column_1</td>\n",
       "      <td>0.602751</td>\n",
       "    </tr>\n",
       "    <tr>\n",
       "      <th>1</th>\n",
       "      <td>column_2</td>\n",
       "      <td>0.578738</td>\n",
       "    </tr>\n",
       "    <tr>\n",
       "      <th>2</th>\n",
       "      <td>column_3</td>\n",
       "      <td>0.582884</td>\n",
       "    </tr>\n",
       "    <tr>\n",
       "      <th>3</th>\n",
       "      <td>column_4</td>\n",
       "      <td>0.730356</td>\n",
       "    </tr>\n",
       "    <tr>\n",
       "      <th>4</th>\n",
       "      <td>column_5</td>\n",
       "      <td>0.575969</td>\n",
       "    </tr>\n",
       "    <tr>\n",
       "      <th>5</th>\n",
       "      <td>column_6</td>\n",
       "      <td>0.415075</td>\n",
       "    </tr>\n",
       "  </tbody>\n",
       "</table>\n",
       "</div>"
      ],
      "text/plain": [
       "   Col_name      Mean\n",
       "0  column_1  0.602751\n",
       "1  column_2  0.578738\n",
       "2  column_3  0.582884\n",
       "3  column_4  0.730356\n",
       "4  column_5  0.575969\n",
       "5  column_6  0.415075"
      ]
     },
     "execution_count": 12,
     "metadata": {},
     "output_type": "execute_result"
    }
   ],
   "source": [
    "#(i) mean of each and every column present in the dataframe.\n",
    "my_dict={}\n",
    "for i, col in enumerate(df1.columns):\n",
    "    my_dict[col]=[df1[col].mean()]\n",
    "m_df=pd.DataFrame(my_dict).melt()\n",
    "m_df.columns=[\"Col_name\", \"Mean\"]\n",
    "m_df               \n"
   ]
  },
  {
   "cell_type": "markdown",
   "id": "e5381c49",
   "metadata": {},
   "source": [
    "# (ii) standard deviation of column, ‘column_2’\n",
    "\n"
   ]
  },
  {
   "cell_type": "code",
   "execution_count": 13,
   "id": "e3acddc3",
   "metadata": {},
   "outputs": [
    {
     "data": {
      "text/plain": [
       "0.17666191745996132"
      ]
     },
     "execution_count": 13,
     "metadata": {},
     "output_type": "execute_result"
    }
   ],
   "source": [
    "df1[\"column_2\"].std()"
   ]
  },
  {
   "cell_type": "markdown",
   "id": "8b1588d3",
   "metadata": {},
   "source": [
    "# Q5. Replace the data present in the second row of column, ‘column_2’ by a string variable then find the mean of column, column_2. If you are getting errors in executing it then explain why.\n",
    "[Hint: To replace the data use df1.loc[] and equate this to string data of your choice.]"
   ]
  },
  {
   "cell_type": "code",
   "execution_count": 14,
   "id": "9e41c3b9",
   "metadata": {},
   "outputs": [
    {
     "data": {
      "text/html": [
       "<div>\n",
       "<style scoped>\n",
       "    .dataframe tbody tr th:only-of-type {\n",
       "        vertical-align: middle;\n",
       "    }\n",
       "\n",
       "    .dataframe tbody tr th {\n",
       "        vertical-align: top;\n",
       "    }\n",
       "\n",
       "    .dataframe thead th {\n",
       "        text-align: right;\n",
       "    }\n",
       "</style>\n",
       "<table border=\"1\" class=\"dataframe\">\n",
       "  <thead>\n",
       "    <tr style=\"text-align: right;\">\n",
       "      <th></th>\n",
       "      <th>column_1</th>\n",
       "      <th>column_2</th>\n",
       "      <th>column_3</th>\n",
       "      <th>column_4</th>\n",
       "      <th>column_5</th>\n",
       "      <th>column_6</th>\n",
       "    </tr>\n",
       "  </thead>\n",
       "  <tbody>\n",
       "    <tr>\n",
       "      <th>1</th>\n",
       "      <td>0.478508</td>\n",
       "      <td>ABC</td>\n",
       "      <td>0.790362</td>\n",
       "      <td>0.955825</td>\n",
       "      <td>0.443962</td>\n",
       "      <td>0.269960</td>\n",
       "    </tr>\n",
       "    <tr>\n",
       "      <th>2</th>\n",
       "      <td>0.825807</td>\n",
       "      <td>ABC</td>\n",
       "      <td>0.383624</td>\n",
       "      <td>0.585317</td>\n",
       "      <td>0.584782</td>\n",
       "      <td>0.740475</td>\n",
       "    </tr>\n",
       "    <tr>\n",
       "      <th>3</th>\n",
       "      <td>0.254261</td>\n",
       "      <td>ABC</td>\n",
       "      <td>0.820029</td>\n",
       "      <td>0.367717</td>\n",
       "      <td>0.867578</td>\n",
       "      <td>0.611974</td>\n",
       "    </tr>\n",
       "    <tr>\n",
       "      <th>4</th>\n",
       "      <td>0.665041</td>\n",
       "      <td>ABC</td>\n",
       "      <td>0.286682</td>\n",
       "      <td>0.783817</td>\n",
       "      <td>0.147341</td>\n",
       "      <td>0.415157</td>\n",
       "    </tr>\n",
       "    <tr>\n",
       "      <th>5</th>\n",
       "      <td>0.788007</td>\n",
       "      <td>ABC</td>\n",
       "      <td>0.504614</td>\n",
       "      <td>0.744917</td>\n",
       "      <td>0.913831</td>\n",
       "      <td>0.312497</td>\n",
       "    </tr>\n",
       "    <tr>\n",
       "      <th>6</th>\n",
       "      <td>0.604884</td>\n",
       "      <td>ABC</td>\n",
       "      <td>0.711991</td>\n",
       "      <td>0.944543</td>\n",
       "      <td>0.498321</td>\n",
       "      <td>0.140385</td>\n",
       "    </tr>\n",
       "  </tbody>\n",
       "</table>\n",
       "</div>"
      ],
      "text/plain": [
       "   column_1 column_2  column_3  column_4  column_5  column_6\n",
       "1  0.478508      ABC  0.790362  0.955825  0.443962  0.269960\n",
       "2  0.825807      ABC  0.383624  0.585317  0.584782  0.740475\n",
       "3  0.254261      ABC  0.820029  0.367717  0.867578  0.611974\n",
       "4  0.665041      ABC  0.286682  0.783817  0.147341  0.415157\n",
       "5  0.788007      ABC  0.504614  0.744917  0.913831  0.312497\n",
       "6  0.604884      ABC  0.711991  0.944543  0.498321  0.140385"
      ]
     },
     "execution_count": 14,
     "metadata": {},
     "output_type": "execute_result"
    }
   ],
   "source": [
    "df1.loc[:,'column_2']=\"ABC\"\n",
    "df1"
   ]
  },
  {
   "cell_type": "markdown",
   "id": "d788003c",
   "metadata": {},
   "source": [
    "# It will give an error as we can't take mean of a string"
   ]
  },
  {
   "cell_type": "code",
   "execution_count": 15,
   "id": "d39db103",
   "metadata": {},
   "outputs": [
    {
     "name": "stdout",
     "output_type": "stream",
     "text": [
      "Could not convert ABCABCABCABCABCABC to numeric\n"
     ]
    }
   ],
   "source": [
    "try:\n",
    "    df1[\"column_2\"].mean()\n",
    "except Exception as e:\n",
    "    print(e)"
   ]
  },
  {
   "cell_type": "markdown",
   "id": "baf97127",
   "metadata": {},
   "source": [
    "# Q6. What do you understand about the windows function in pandas and list the types of windows functions?\n",
    "\n",
    "# ANS\n",
    "\n",
    "* In pandas, a window function is a function that operates on a sliding window of data. The window function is applied to each window of data, producing a new value for each window. Window functions are useful for performing calculations that depend on a sliding window of data, such as rolling averages or cumulative sums.\n",
    "\n",
    "There are several types of window functions available in pandas:\n",
    "\n",
    "#### Rolling functions: \n",
    "* These functions operate on a fixed-size window of data that slides over the data. The size of the window is specified by the user.\n",
    "\n",
    "#### Expanding functions: \n",
    "* These functions operate on all the data up to the current point. The window size increases with each new data point.\n",
    "\n",
    "#### Exponentially-weighted functions: \n",
    "* These functions compute a weighted average of the data, where the weights decay exponentially with time.\n",
    "\n",
    "#### Cumulative functions: \n",
    "* These functions compute a cumulative value over the entire dataset up to the current point.\n",
    "\n",
    "#### Aggregation functions: \n",
    "* These functions aggregate data within each window using a specified aggregation function, such as sum or mean.\n",
    "\n",
    "#### Transformation functions: \n",
    "* These functions apply a transformation to each window of data, such as normalization or standardization.\n",
    "\n",
    "#### Binary functions: \n",
    "* These functions operate on two windows of data, such as computing the correlation between two time series.\n",
    "\n",
    "Each type of window function has its own set of parameters and options for customization, allowing for a wide range of calculations to be performed on sliding windows of data.\n",
    "\n"
   ]
  },
  {
   "cell_type": "code",
   "execution_count": 16,
   "id": "0ae1ab02",
   "metadata": {},
   "outputs": [
    {
     "data": {
      "text/plain": [
       "2020-01-01         NaN\n",
       "2020-01-02         NaN\n",
       "2020-01-03         NaN\n",
       "2020-01-04         NaN\n",
       "2020-01-05         NaN\n",
       "                ...   \n",
       "2022-09-22   -0.099468\n",
       "2022-09-23   -0.087788\n",
       "2022-09-24   -0.070127\n",
       "2022-09-25   -0.319017\n",
       "2022-09-26   -0.173221\n",
       "Freq: D, Length: 1000, dtype: float64"
      ]
     },
     "execution_count": 16,
     "metadata": {},
     "output_type": "execute_result"
    }
   ],
   "source": [
    "# example of rolling windows\n",
    "\n",
    "\n",
    "import numpy as np\n",
    "\n",
    "# create a time series\n",
    "ts = pd.Series(np.random.randn(1000), index=pd.date_range('1/1/2020', periods=1000))\n",
    "\n",
    "# calculate rolling mean over a window of 10 data points\n",
    "rolling_mean = ts.rolling(window=10).mean()\n",
    "rolling_mean"
   ]
  },
  {
   "cell_type": "code",
   "execution_count": 17,
   "id": "fe842049",
   "metadata": {},
   "outputs": [
    {
     "data": {
      "text/plain": [
       "2020-01-01   -0.221124\n",
       "2020-01-02    0.791929\n",
       "2020-01-03   -0.098096\n",
       "2020-01-04    0.279497\n",
       "2020-01-05    1.781961\n",
       "                ...   \n",
       "2022-09-22   -1.302790\n",
       "2022-09-23   -1.267245\n",
       "2022-09-24    0.618687\n",
       "2022-09-25   -0.897196\n",
       "2022-09-26   -0.404947\n",
       "Freq: D, Length: 1000, dtype: float64"
      ]
     },
     "execution_count": 17,
     "metadata": {},
     "output_type": "execute_result"
    }
   ],
   "source": [
    "# examp of expanding window\n",
    "\n",
    "# create a time series\n",
    "ts = pd.Series(np.random.randn(1000), index=pd.date_range('1/1/2020', periods=1000))\n",
    "\n",
    "# calculate expanding sum of the data\n",
    "expanding_sum = ts.expanding().sum()\n",
    "expanding_sum"
   ]
  },
  {
   "cell_type": "code",
   "execution_count": 18,
   "id": "07262a4b",
   "metadata": {},
   "outputs": [
    {
     "data": {
      "text/plain": [
       "2020-01-01   -1.371715\n",
       "2020-01-02   -0.632545\n",
       "2020-01-03   -0.344379\n",
       "2020-01-04   -0.205539\n",
       "2020-01-05   -0.115431\n",
       "                ...   \n",
       "2022-09-22   -0.061620\n",
       "2022-09-23   -0.077260\n",
       "2022-09-24   -0.044395\n",
       "2022-09-25   -0.025111\n",
       "2022-09-26   -0.072491\n",
       "Freq: D, Length: 1000, dtype: float64"
      ]
     },
     "execution_count": 18,
     "metadata": {},
     "output_type": "execute_result"
    }
   ],
   "source": [
    "# examp of ewm\n",
    "# create a time series\n",
    "ts = pd.Series(np.random.randn(1000), index=pd.date_range('1/1/2020', periods=1000))\n",
    "\n",
    "# calculate exponentially-weighted moving average with span of 30 data points\n",
    "ewma = ts.ewm(span=30).mean()\n",
    "ewma"
   ]
  },
  {
   "cell_type": "code",
   "execution_count": 19,
   "id": "75b7c32a",
   "metadata": {},
   "outputs": [
    {
     "data": {
      "text/plain": [
       "2020-01-01     0.416703\n",
       "2020-01-02     2.977532\n",
       "2020-01-03     1.270827\n",
       "2020-01-04    -0.180245\n",
       "2020-01-05     1.292716\n",
       "                ...    \n",
       "2022-09-22   -19.489424\n",
       "2022-09-23   -19.688498\n",
       "2022-09-24   -20.227716\n",
       "2022-09-25   -21.599954\n",
       "2022-09-26   -20.583850\n",
       "Freq: D, Length: 1000, dtype: float64"
      ]
     },
     "execution_count": 19,
     "metadata": {},
     "output_type": "execute_result"
    }
   ],
   "source": [
    "# exm of cumsum\n",
    "\n",
    "# create a time series\n",
    "ts = pd.Series(np.random.randn(1000), index=pd.date_range('1/1/2020', periods=1000))\n",
    "\n",
    "# calculate cumulative sum of the data\n",
    "cumulative_sum = ts.cumsum()\n",
    "cumulative_sum"
   ]
  },
  {
   "cell_type": "code",
   "execution_count": 20,
   "id": "0b84ab04",
   "metadata": {},
   "outputs": [
    {
     "data": {
      "text/plain": [
       "2020-01-01         NaN\n",
       "2020-01-02         NaN\n",
       "2020-01-03         NaN\n",
       "2020-01-04         NaN\n",
       "2020-01-05         NaN\n",
       "                ...   \n",
       "2022-09-22   -3.213079\n",
       "2022-09-23   -3.086824\n",
       "2022-09-24   -1.693001\n",
       "2022-09-25   -2.088477\n",
       "2022-09-26   -3.417685\n",
       "Freq: D, Length: 1000, dtype: float64"
      ]
     },
     "execution_count": 20,
     "metadata": {},
     "output_type": "execute_result"
    }
   ],
   "source": [
    "# aggregation function \n",
    "\n",
    "\n",
    "# create a time series\n",
    "ts = pd.Series(np.random.randn(1000), index=pd.date_range('1/1/2020', periods=1000))\n",
    "\n",
    "# calculate rolling sum over a window of 10 data points\n",
    "rolling_sum = ts.rolling(window=10).sum()\n",
    "rolling_sum"
   ]
  },
  {
   "cell_type": "code",
   "execution_count": 21,
   "id": "adf1011e",
   "metadata": {},
   "outputs": [
    {
     "data": {
      "text/plain": [
       "2020-01-01         NaN\n",
       "2020-01-02         NaN\n",
       "2020-01-03         NaN\n",
       "2020-01-04         NaN\n",
       "2020-01-05         NaN\n",
       "                ...   \n",
       "2022-09-22   -0.888703\n",
       "2022-09-23    1.667890\n",
       "2022-09-24   -0.445012\n",
       "2022-09-25    0.702215\n",
       "2022-09-26    0.295365\n",
       "Freq: D, Length: 1000, dtype: float64"
      ]
     },
     "execution_count": 21,
     "metadata": {},
     "output_type": "execute_result"
    }
   ],
   "source": [
    "# Transformation functions:\n",
    "\n",
    "\n",
    "\n",
    "# create a time series\n",
    "ts = pd.Series(np.random.randn(1000), index=pd.date_range('1/1/2020', periods=1000))\n",
    "\n",
    "# normalize the data using the rolling standard deviation and mean over a window of 10 data points\n",
    "rolling_std = ts.rolling(window=10).std()\n",
    "rolling_mean = ts.rolling(window=10).mean()\n",
    "normalized = (ts - rolling_mean) / rolling_std\n",
    "normalized"
   ]
  },
  {
   "cell_type": "code",
   "execution_count": 22,
   "id": "10c50da6",
   "metadata": {},
   "outputs": [
    {
     "data": {
      "text/plain": [
       "2020-01-01         NaN\n",
       "2020-01-02         NaN\n",
       "2020-01-03         NaN\n",
       "2020-01-04         NaN\n",
       "2020-01-05         NaN\n",
       "                ...   \n",
       "2022-09-22   -0.548578\n",
       "2022-09-23   -0.601650\n",
       "2022-09-24   -0.591819\n",
       "2022-09-25   -0.297220\n",
       "2022-09-26   -0.346739\n",
       "Freq: D, Length: 1000, dtype: float64"
      ]
     },
     "execution_count": 22,
     "metadata": {},
     "output_type": "execute_result"
    }
   ],
   "source": [
    "#binary function\n",
    "\n",
    "# create two time series\n",
    "ts1 = pd.Series(np.random.randn(1000), index=pd.date_range('1/1/2020', periods=1000))\n",
    "ts2 = pd.Series(np.random.randn(1000), index=pd.date_range('1/1/2020', periods=1000))\n",
    "\n",
    "# calculate rolling correlation over a window of 10 data points\n",
    "rolling_corr = ts1.rolling(window=10).corr(ts2)\n",
    "rolling_corr"
   ]
  },
  {
   "cell_type": "markdown",
   "id": "cd2128d3",
   "metadata": {},
   "source": [
    "# Q7. Write a code to print only the current month and year at the time of answering this question.\n",
    "[Hint: Use pandas.datetime function]"
   ]
  },
  {
   "cell_type": "code",
   "execution_count": 23,
   "id": "c3ede968",
   "metadata": {},
   "outputs": [
    {
     "name": "stdout",
     "output_type": "stream",
     "text": [
      "Current month and year: March 2023\n"
     ]
    }
   ],
   "source": [
    "now = pd.datetime.now()\n",
    "print(\"Current month and year:\", now.strftime(\"%B %Y\"))"
   ]
  },
  {
   "cell_type": "markdown",
   "id": "015cb0a1",
   "metadata": {},
   "source": [
    "# Q8. Write a Python program that takes in two dates as input (in the format YYYY-MM-DD) and calculates the difference between them in days, hours, and minutes using Pandas time delta. The program should prompt the user to enter the dates and display the result."
   ]
  },
  {
   "cell_type": "code",
   "execution_count": 26,
   "id": "f683aabc",
   "metadata": {},
   "outputs": [
    {
     "name": "stdout",
     "output_type": "stream",
     "text": [
      "Enter the first date (YYYY-MM-DD): 2022-02-02\n",
      "Enter the second date (YYYY-MM-DD): 2021-02-02\n",
      "\n",
      "Time difference between 2022-02-02 and 2021-02-02 :\n",
      "-365 days, 0 hours, 0 minutes\n"
     ]
    }
   ],
   "source": [
    "import pandas as pd\n",
    "\n",
    "# prompt the user to enter the two dates\n",
    "date1 = input(\"Enter the first date (YYYY-MM-DD): \")\n",
    "date2 = input(\"Enter the second date (YYYY-MM-DD): \")\n",
    "\n",
    "# convert the dates to pandas datetime format\n",
    "date1 = pd.to_datetime(date1)\n",
    "date2 = pd.to_datetime(date2)\n",
    "\n",
    "# calculate the time difference between the two dates\n",
    "time_diff = date2 - date1\n",
    "\n",
    "# extract the days, hours, and minutes from the time difference\n",
    "days = time_diff.days\n",
    "hours = time_diff.seconds // 3600\n",
    "minutes = (time_diff.seconds % 3600) // 60\n",
    "print()\n",
    "\n",
    "# display the result\n",
    "print(\"Time difference between\", date1.strftime(\"%Y-%m-%d\"), \"and\", date2.strftime(\"%Y-%m-%d\"), \":\")\n",
    "print(days, \"days,\", hours, \"hours,\", minutes, \"minutes\")\n"
   ]
  },
  {
   "cell_type": "markdown",
   "id": "0bfed4d0",
   "metadata": {},
   "source": [
    "# Q9. Write a Python program that reads a CSV file containing categorical data and converts a specified column to a categorical data type. The program should prompt the user to enter the file path, column name, and category order, and then display the sorted data.\n",
    "\n",
    "# ANS"
   ]
  },
  {
   "cell_type": "code",
   "execution_count": 28,
   "id": "69488f37",
   "metadata": {},
   "outputs": [],
   "source": [
    "import pandas as pd\n",
    "\n",
    "# Prompt user for file path\n",
    "file_path = input(\"Enter file path: \")\n",
    "\n",
    "# Read CSV file into pandas DataFrame\n",
    "df = pd.read_csv(file_path)\n",
    "\n",
    "# Prompt user for column name and category order\n",
    "column_name = input(\"Enter column name: \")\n",
    "category_order = input(\"Enter category order (comma-separated): \").split(',')\n",
    "\n",
    "# Convert column to categorical data type with specified order\n",
    "df[column_name] = pd.Categorical(df[column_name], categories=category_order)\n",
    "\n",
    "# Sort DataFrame by specified column\n",
    "df = df.sort_values(by=[column_name])\n",
    "\n",
    "# Display sorted data\n",
    "print(df)\n"
   ]
  },
  {
   "cell_type": "markdown",
   "id": "618ce1a7",
   "metadata": {},
   "source": [
    "# Q10. Write a Python program that reads a CSV file containing sales data for different products and visualizes the data using a stacked bar chart to show the sales of each product category over time. Theprogram should prompt the user to enter the file path and display the chart"
   ]
  },
  {
   "cell_type": "code",
   "execution_count": 36,
   "id": "1321922b",
   "metadata": {},
   "outputs": [
    {
     "name": "stdout",
     "output_type": "stream",
     "text": [
      "Enter file path: sales1.csv\n"
     ]
    },
    {
     "data": {
      "image/png": "[encoded data removed]",
      "text/plain": [
       "<Figure size 1000x600 with 1 Axes>"
      ]
     },
     "metadata": {},
     "output_type": "display_data"
    }
   ],
   "source": [
    "import pandas as pd\n",
    "import matplotlib.pyplot as plt\n",
    "\n",
    "# Prompt user for file path\n",
    "file_path = input(\"Enter file path: \")\n",
    "\n",
    "# Read CSV file into pandas DataFrame\n",
    "df = pd.read_csv(file_path)\n",
    "\n",
    "# Convert Date column to datetime data type\n",
    "df['date'] = pd.to_datetime(df['date'])\n",
    "\n",
    "# Group DataFrame by Category and Date, and sum sales\n",
    "grouped = df.groupby(['category', 'date']).sum()\n",
    "\n",
    "# Unstack grouped DataFrame by Category\n",
    "unstacked = grouped.unstack(level=0)\n",
    "\n",
    "# Create stacked bar chart of sales by category over time\n",
    "ax = unstacked.plot(kind='bar', stacked=True, figsize=(10, 6))\n",
    "ax.set_xlabel('Date')\n",
    "ax.set_ylabel('Sales')\n",
    "ax.legend(loc='upper left')\n",
    "\n",
    "# Show chart\n",
    "plt.show()\n"
   ]
  },
  {
   "cell_type": "markdown",
   "id": "f9a73a6a",
   "metadata": {},
   "source": [
    "# Q11. You are given a CSV file containing student data that includes the student ID and their test score. Writea Python program that reads the CSV file, calculates the mean, median, and mode of the test scores, and\n",
    "* displays the results in a table.\n",
    "* The program should do the followingM\n",
    "* I Prompt the user to enter the file path of the CSV file containing the student data\n",
    "* I Read the CSV file into a Pandas DataFrameR\n",
    "* I Calculate the mean, median, and mode of the test scores using Pandas toolsR\n",
    "* I Display the mean, median, and mode in a table.\n",
    "* Assume the CSV file contains the following columnsM\n",
    "* I Student ID: The ID of the studentR\n",
    "* I Test Score: The score of the student's test.\n",
    "* Example usage of the program:\n",
    "* Enter the file path of the CSV file containing the student data: student_data.csv\n",
    "\n",
    "* +-----------+--------+\n",
    "* | Statistic | Value |\n",
    "* +-----------+--------+\n",
    "* | Mean | 79.6 |\n",
    "* | Median | 82 |\n",
    "* | Mode | 85, 90 |\n",
    "* +-----------+--------+\n",
    "* Assume that the CSV file student_data.csv contains the following data:\n",
    "Student ID,Test Score\n",
    "1,85\n",
    "2,90\n",
    "3,80\n",
    "4,75\n",
    "5,85\n",
    "6,82\n",
    "7,78\n",
    "8,85\n",
    "9,90\n",
    "10,85\n",
    "The program should calculate the mean, median, and mode of the test scores and display the results\n",
    "in a table."
   ]
  },
  {
   "cell_type": "code",
   "execution_count": 37,
   "id": "6c479690",
   "metadata": {},
   "outputs": [
    {
     "name": "stdout",
     "output_type": "stream",
     "text": [
      "Enter the file path of the CSV file containing the student data: student_data.csv\n",
      "Statistic Value\n",
      "     Mean  83.5\n",
      "   Median  85.0\n",
      "     Mode    85\n"
     ]
    }
   ],
   "source": [
    "import pandas as pd\n",
    "\n",
    "# Prompt user for file path\n",
    "file_path = input(\"Enter the file path of the CSV file containing the student data: \")\n",
    "\n",
    "# Read CSV file into pandas DataFrame\n",
    "df = pd.read_csv(file_path)\n",
    "\n",
    "# Calculate mean, median, and mode of test scores\n",
    "mean = df['Test Score'].mean()\n",
    "median = df['Test Score'].median()\n",
    "mode = df['Test Score'].mode().tolist()\n",
    "\n",
    "# Create table of results\n",
    "results = pd.DataFrame({\n",
    "    'Statistic': ['Mean', 'Median', 'Mode'],\n",
    "    'Value': [mean, median, ', '.join(map(str, mode))]\n",
    "})\n",
    "\n",
    "# Display table\n",
    "print(results.to_string(index=False))\n"
   ]
  },
  {
   "cell_type": "code",
   "execution_count": null,
   "id": "66df97b0",
   "metadata": {},
   "outputs": [],
   "source": []
  }
 ],
 "metadata": {
  "kernelspec": {
   "display_name": "Python 3 (ipykernel)",
   "language": "python",
   "name": "python3"
  },
  "language_info": {
   "codemirror_mode": {
    "name": "ipython",
    "version": 3
   },
   "file_extension": ".py",
   "mimetype": "text/x-python",
   "name": "python",
   "nbconvert_exporter": "python",
   "pygments_lexer": "ipython3",
   "version": "3.9.13"
  }
 },
 "nbformat": 4,
 "nbformat_minor": 5
}
